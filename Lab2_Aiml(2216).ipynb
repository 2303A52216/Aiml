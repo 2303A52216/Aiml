{
  "nbformat": 4,
  "nbformat_minor": 0,
  "metadata": {
    "colab": {
      "provenance": []
    },
    "kernelspec": {
      "name": "python3",
      "display_name": "Python 3"
    },
    "language_info": {
      "name": "python"
    }
  },
  "cells": [
    {
      "cell_type": "code",
      "execution_count": 1,
      "metadata": {
        "id": "Bx6mXMQ0uEoI"
      },
      "outputs": [],
      "source": [
        "#Lab Exercise- Implement Breadth First, Depth First and A* Search Algorithms\n",
        "#PART 1\n",
        "#Implement Breadth First Search Algorithm using a Queue\n",
        "import numpy as np\n",
        "from queue import Queue"
      ]
    },
    {
      "cell_type": "code",
      "source": [
        " graph = {\n",
        " 0:[1,2,3],\n",
        " 1:[0,2],\n",
        " 2:[0,1,3,5],\n",
        " 3:[0,2,4],\n",
        " 4:[3,5,7],\n",
        " 5:[4,6,7],\n",
        " 6:[5,7],\n",
        " 7:[4,5,6],\n",
        " 8:[]\n",
        " }\n",
        " print(\"The adjacency List representing the graph is:\")\n",
        " print(graph)"
      ],
      "metadata": {
        "colab": {
          "base_uri": "https://localhost:8080/"
        },
        "id": "gWnolPLexTY9",
        "outputId": "1bfdf8e8-c942-4b46-b61f-30f46b762c94"
      },
      "execution_count": 3,
      "outputs": [
        {
          "output_type": "stream",
          "name": "stdout",
          "text": [
            "The adjacency List representing the graph is:\n",
            "{0: [1, 2, 3], 1: [0, 2], 2: [0, 1, 3, 5], 3: [0, 2, 4], 4: [3, 5, 7], 5: [4, 6, 7], 6: [5, 7], 7: [4, 5, 6], 8: []}\n"
          ]
        }
      ]
    },
    {
      "cell_type": "code",
      "source": [
        "def bfs(graph, source):\n",
        "  Q = Queue()\n",
        "  visited_vertices = set()\n",
        "  Q.put(source)\n",
        "  visited_vertices.add(source)\n",
        "  while not Q.empty():\n",
        "    vertex = Q.get()\n",
        "    print(vertex, end=\"-->\")\n",
        "    for u in graph[vertex]:\n",
        "      if u not in visited_vertices:\n",
        "        Q.put(u)\n",
        "        visited_vertices.add(u)\n",
        "print(\"BFS traversal of graph with source 0 is:\")\n",
        "bfs(graph,0)"
      ],
      "metadata": {
        "colab": {
          "base_uri": "https://localhost:8080/"
        },
        "id": "ZpQdu2vSyRwY",
        "outputId": "9d6edd6d-25d0-47e7-982d-59ec1f41afab"
      },
      "execution_count": 11,
      "outputs": [
        {
          "output_type": "stream",
          "name": "stdout",
          "text": [
            "BFS traversal of graph with source 0 is:\n",
            "0-->1-->2-->3-->5-->4-->6-->7-->"
          ]
        }
      ]
    },
    {
      "cell_type": "code",
      "source": [
        "# PART 2\n",
        "#Implement Depth First Search Algorithm using a Stack.\n",
        "import numpy as np\n",
        "graph1={\n",
        " 'A':['C','D','G'],\n",
        " 'B':['A'],\n",
        " 'C':['A','D','F'],\n",
        " 'D':['A','C','E','G','H'],\n",
        " 'E':['D','F','H'],\n",
        " 'F':['C','E'],\n",
        " 'G':['A','D','H'],\n",
        " 'H':['D','E','G'],\n",
        " }"
      ],
      "metadata": {
        "id": "UANwyVeSyo1-"
      },
      "execution_count": 13,
      "outputs": []
    },
    {
      "cell_type": "code",
      "source": [
        "print(\"the adjaecncy list representing the graph 1\")\n",
        "print(graph1)"
      ],
      "metadata": {
        "colab": {
          "base_uri": "https://localhost:8080/"
        },
        "id": "koh_G2myz1DU",
        "outputId": "20dccb90-6c55-47e0-adf0-50d3bd0bba0a"
      },
      "execution_count": 14,
      "outputs": [
        {
          "output_type": "stream",
          "name": "stdout",
          "text": [
            "the adjaecncy list representing the graph 1\n",
            "{'A': ['C', 'D', 'G'], 'B': ['A'], 'C': ['A', 'D', 'F'], 'D': ['A', 'C', 'E', 'G', 'H'], 'E': ['D', 'F', 'H'], 'F': ['C', 'E'], 'G': ['A', 'D', 'H'], 'H': ['D', 'E', 'G']}\n"
          ]
        }
      ]
    },
    {
      "cell_type": "code",
      "source": [
        "def dfs(graph, node, visited):\n",
        "  if node not in visited:\n",
        "    visited.append(node)\n",
        "    for k in graph[node]:\n",
        "      dfs(graph, k, visited)\n",
        "  return visited"
      ],
      "metadata": {
        "id": "9XkhFJg-z5hh"
      },
      "execution_count": 17,
      "outputs": []
    },
    {
      "cell_type": "code",
      "source": [
        "visited = dfs(graph1, 'B' ,[])\n",
        "print(visited)"
      ],
      "metadata": {
        "colab": {
          "base_uri": "https://localhost:8080/"
        },
        "id": "tyR0Mpse0IkT",
        "outputId": "69bc1e6f-0ddc-4bf6-f4e0-3056e92f8e80"
      },
      "execution_count": 18,
      "outputs": [
        {
          "output_type": "stream",
          "name": "stdout",
          "text": [
            "['B', 'A', 'C', 'D', 'E', 'F', 'H', 'G']\n"
          ]
        }
      ]
    },
    {
      "cell_type": "code",
      "source": [
        "import numpy as np\n",
        "from queue import Queue\n",
        "import heapq"
      ],
      "metadata": {
        "id": "wB0VfzMP0O5f"
      },
      "execution_count": 56,
      "outputs": []
    },
    {
      "cell_type": "code",
      "source": [
        "def bestFirstSearch(initial_state, goal_state, evaluation_function):\n",
        "  priority_queue=[]\n",
        "  heapq.heappush(priority_queue, (evaluation_function(initial_state),initial_state))\n",
        "  while priority_queue:\n",
        "    current_state = heapq.heappop(priority_queue)[1]\n",
        "    if current_state == goal_state:\n",
        "      return current_state\n",
        "    next_states = generateNextStates(current_state)\n",
        "    for next_state in next_states:\n",
        "        priority_value=evaluation_function(next_state)\n",
        "        heapq.heappush(priority_queue,( priority_value, next_state))\n",
        "  return \"No Solution found\""
      ],
      "metadata": {
        "id": "fIGGq5_y0WPf"
      },
      "execution_count": 57,
      "outputs": []
    },
    {
      "cell_type": "code",
      "source": [
        "def evaluationfunction(state):\n",
        "    return abs(state[0]-goal_state[0])+abs(state[1]-goal_state[1])"
      ],
      "metadata": {
        "id": "nou6O37c2V4T"
      },
      "execution_count": 58,
      "outputs": []
    },
    {
      "cell_type": "code",
      "source": [
        "def generateNextStates(state):\n",
        "  x,y=state\n",
        "  next_states=[(x+1,y),(x-1,y),(x,y+1),(x,y-1)]\n",
        "  return [s for s in next_states if 0<=s[0]<=4 and 0<=s[1]<=4]\n",
        "initial_state=(0,0)\n",
        "goal_state=(4,4)\n",
        "solution=bestFirstSearch(initial_state, goal_state, evaluationfunction)\n",
        "print(\"solution\",solution)"
      ],
      "metadata": {
        "colab": {
          "base_uri": "https://localhost:8080/"
        },
        "id": "yKlXZ0E22gl1",
        "outputId": "959d3906-e192-4ce0-8d15-97a66b05fe2f"
      },
      "execution_count": 60,
      "outputs": [
        {
          "output_type": "stream",
          "name": "stdout",
          "text": [
            "solution (4, 4)\n"
          ]
        }
      ]
    },
    {
      "cell_type": "code",
      "source": [
        "#PART 3\n",
        "from copy import deepcopy\n",
        "import numpy as np\n",
        "import time"
      ],
      "metadata": {
        "id": "x-FqS9F02u2M"
      },
      "execution_count": 26,
      "outputs": []
    },
    {
      "cell_type": "code",
      "source": [
        "def bestsolution(state):\n",
        "    bestsol = np.array([], int).reshape(-1, 9)\n",
        "    count = len(state)- 1\n",
        "    while count !=-1:\n",
        "        bestsol = np.insert(bestsol, 0, state[count]['puzzle'], 0)\n",
        "        count = (state[count]['parent'])\n",
        "    return bestsol.reshape(-1,3,3)"
      ],
      "metadata": {
        "id": "m2SQQn0g3Ixr"
      },
      "execution_count": 75,
      "outputs": []
    },
    {
      "cell_type": "code",
      "source": [
        "def all(checkarray):\n",
        "    set=[]\n",
        "    for it in set:\n",
        "        for checkarray in it:\n",
        "            return 1\n",
        "        else:\n",
        "         return 0"
      ],
      "metadata": {
        "id": "BfzvbojR3T1v"
      },
      "execution_count": 76,
      "outputs": []
    },
    {
      "cell_type": "code",
      "source": [
        "def misplaced_tiles(puzzle,goal):\n",
        "    mscost = np.sum(puzzle != goal)- 1\n",
        "    return mscost if mscost > 0 else 0"
      ],
      "metadata": {
        "id": "smtG7cEM3hCO"
      },
      "execution_count": 77,
      "outputs": []
    },
    {
      "cell_type": "code",
      "source": [
        "def coordinates(puzzle):\n",
        "    pos = np.array(range(9))\n",
        "    for p, q in enumerate(puzzle):\n",
        "        pos[q] = p\n",
        "        return pos"
      ],
      "metadata": {
        "id": "P-wrBLtZ4Zq8"
      },
      "execution_count": 78,
      "outputs": []
    },
    {
      "cell_type": "code",
      "source": [
        "def evaluvate_misplaced(puzzle, goal):\n",
        "    steps = np.array([('up', [0, 1, 2],-3),('down', [6, 7, 8], 3),('left',[0, 3, 6],-1),('right', [2, 5, 8], 1)],\n",
        "                   dtype = [('move', str, 1),('position', list),('head', int)])\n",
        "    dtstate = [('puzzle', list),('parent', int),('gn', int),('hn', int)]\n",
        "    costg = coordinates(goal)\n",
        "    parent =-1\n",
        "    gn = 0\n",
        "    hn = misplaced_tiles(coordinates(puzzle), costg)\n",
        "    state = np.array([(puzzle, parent, gn, hn)], dtstate)\n",
        "    dtpriority = [('position', int),('fn', int)]\n",
        "    priority = np.array([(0, hn)], dtpriority)\n",
        "    while 1:\n",
        "        priority = np.sort(priority, kind='mergesort', order=['fn', 'position'])\n",
        "        position, fn = priority[0]\n",
        "        priority = np.delete(priority, 0, 0)\n",
        "        puzzle, parent, gn, hn = state[position]\n",
        "        puzzle = np.array(puzzle)\n",
        "        blank = int(np.where(puzzle == 0)[0])\n",
        "        gn = gn + 1\n",
        "        c = 1\n",
        "        start_time = time.time()\n",
        "        for s in steps:\n",
        "            c = c + 1\n",
        "            if blank not in s['position']:\n",
        "                openstates = deepcopy(puzzle)\n",
        "                openstates[blank], openstates[blank + s['head']] =openstates[blank + s['head']], openstates[blank]\n",
        "                if ~(np.all(list(state['puzzle']) == openstates, 1)).any():\n",
        "                     end_time = time.time()\n",
        "                     if (( end_time- start_time ) > 2):\n",
        "                         print(\" The 8 puzzle is unsolvable \\n\")\n",
        "                         break\n",
        "                     hn = misplaced_tiles(coordinates(openstates), costg)\n",
        "                     q = np.array([(openstates, position, gn, hn)], dtstate)\n",
        "                     state = np.append(state, q, 0)\n",
        "                     fn = gn + hn\n",
        "                     q = np.array([(len(state)- 1, fn)], dtpriority)\n",
        "                     priority = np.append(priority, q, 0)\n",
        "                     if np.array_equal(openstates, goal):\n",
        "                         print(' The 8 puzzle is solvable \\n')\n",
        "                         return state, len(priority)\n",
        "    return state, len(priority)"
      ],
      "metadata": {
        "id": "EYoQH8kZ417h"
      },
      "execution_count": 79,
      "outputs": []
    },
    {
      "cell_type": "code",
      "source": [
        "puzzle = []\n",
        "puzzle.append(2)\n",
        "puzzle.append(8)\n",
        "puzzle.append(3)\n",
        "puzzle.append(1)\n",
        "puzzle.append(6)\n",
        "puzzle.append(4)\n",
        "puzzle.append(7)\n",
        "puzzle.append(0)\n",
        "puzzle.append(5)"
      ],
      "metadata": {
        "id": "m8ZTM8xm6K-w"
      },
      "execution_count": 80,
      "outputs": []
    },
    {
      "cell_type": "code",
      "source": [
        "goal = []\n",
        "goal.append(1)\n",
        "goal.append(2)\n",
        "goal.append(3)\n",
        "goal.append(8)\n",
        "goal.append(0)\n",
        "goal.append(4)\n",
        "goal.append(7)\n",
        "goal.append(6)\n",
        "goal.append(5)\n",
        "state, visited = evaluvate_misplaced(puzzle, goal)\n",
        "bestpath = bestsolution(state)\n",
        "print(str(bestpath).replace('[', ' ').replace(']', ''))\n",
        "totalmoves= len(bestpath)-1\n",
        "print('\\nSteps toreachgoal:',totalmoves)\n",
        "visit =len(state)-visited\n",
        "print('Totalnodes visited: ',visit,\"\\n\")"
      ],
      "metadata": {
        "colab": {
          "base_uri": "https://localhost:8080/"
        },
        "id": "H6xz03-G7oET",
        "outputId": "745f87fa-1149-4af6-8f7d-19c3163ce889"
      },
      "execution_count": 81,
      "outputs": [
        {
          "output_type": "stream",
          "name": "stdout",
          "text": [
            " The 8 puzzle is solvable \n",
            "\n",
            "   2 8 3\n",
            "   1 6 4\n",
            "   7 0 5\n",
            "\n",
            "   2 8 3\n",
            "   1 0 4\n",
            "   7 6 5\n",
            "\n",
            "   2 0 3\n",
            "   1 8 4\n",
            "   7 6 5\n",
            "\n",
            "   0 2 3\n",
            "   1 8 4\n",
            "   7 6 5\n",
            "\n",
            "   1 2 3\n",
            "   0 8 4\n",
            "   7 6 5\n",
            "\n",
            "   1 2 3\n",
            "   8 0 4\n",
            "   7 6 5\n",
            "\n",
            "Steps toreachgoal: 5\n",
            "Totalnodes visited:  20 \n",
            "\n"
          ]
        },
        {
          "output_type": "stream",
          "name": "stderr",
          "text": [
            "<ipython-input-79-5580fc6b1797>:18: DeprecationWarning: Conversion of an array with ndim > 0 to a scalar is deprecated, and will error in future. Ensure you extract a single element from your array before performing this operation. (Deprecated NumPy 1.25.)\n",
            "  blank = int(np.where(puzzle == 0)[0])\n"
          ]
        }
      ]
    },
    {
      "cell_type": "code",
      "source": [],
      "metadata": {
        "id": "tPuVdOLG79Dp"
      },
      "execution_count": null,
      "outputs": []
    }
  ]
}